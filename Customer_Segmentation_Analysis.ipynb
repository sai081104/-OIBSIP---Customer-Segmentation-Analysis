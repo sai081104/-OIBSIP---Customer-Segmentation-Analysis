
# Customer Segmentation Analysis

## 1. Importing Libraries
import pandas as pd
import numpy as np
import matplotlib.pyplot as plt
import seaborn as sns
from sklearn.preprocessing import StandardScaler
from sklearn.cluster import KMeans
from sklearn.decomposition import PCA

# For visualization inline
%matplotlib inline

## 2. Load Dataset
df = pd.read_csv("customer_data.csv")
df.head()

## 3. Data Cleaning
df.dropna(inplace=True)
df = df.select_dtypes(include=[np.number])

## 4. Descriptive Statistics
print(df.describe())

## 5. Data Scaling
scaler = StandardScaler()
scaled_data = scaler.fit_transform(df)

## 6. KMeans Clustering
kmeans = KMeans(n_clusters=4, random_state=42)
df['Cluster'] = kmeans.fit_predict(scaled_data)

## 7. PCA for Visualization
pca = PCA(n_components=2)
pca_data = pca.fit_transform(scaled_data)
df['PCA1'] = pca_data[:, 0]
df['PCA2'] = pca_data[:, 1]

## 8. Plotting Clusters
plt.figure(figsize=(10,6))
sns.scatterplot(data=df, x='PCA1', y='PCA2', hue='Cluster', palette='Set2')
plt.title('Customer Segments by PCA Components')
plt.savefig("cluster_visualization.png")
plt.show()

## 9. Cluster Insights
cluster_summary = df.groupby('Cluster').mean()
print(cluster_summary)
